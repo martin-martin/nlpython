{
 "cells": [
  {
   "cell_type": "code",
   "execution_count": 88,
   "metadata": {},
   "outputs": [],
   "source": [
    "from requests_html import HTMLSession\n",
    "from pprint import pprint\n",
    "\n",
    "\n",
    "pages = [\n",
    "    'https://president.yale.edu/speeches-writings/notes-woodbridge-hall',\n",
    "    'https://president.yale.edu/speeches-writings/speeches',\n",
    "    'https://president.yale.edu/speeches-writings/statements',\n",
    "]\n",
    "\n",
    "def get_pagination(url):\n",
    "    session = HTMLSession()\n",
    "    r = session.get(url)\n",
    "    paginate = []\n",
    "    for html in r.html:\n",
    "        # filter out only if they are pagination URLs\n",
    "        if html.url.find('page') > 0:\n",
    "            paginate.append(html.url)\n",
    "    return paginate\n",
    "\n",
    "\n",
    "def get_links(url, paginate=False):\n",
    "    # make it loop\n",
    "    session = HTMLSession()\n",
    "    r = session.get(url)\n",
    "\n",
    "    # get only the links that host articles\n",
    "    if not paginate:\n",
    "        sub_page = url.split('/')[-1]  # take only the ones that end with the respective page URL\n",
    "    else:\n",
    "        sub_page = 'notes-woodbridge-hall'\n",
    "    links = [l for l in r.html.absolute_links if f'https://president.yale.edu/speeches-writings/{sub_page}/' in l]\n",
    "    \n",
    "    # filtering out the pagination and archive links\n",
    "    links = [l for l in links if all([l.find('page') == -1, l.find('/archive') == -1])]\n",
    "    return links\n",
    "\n",
    "\n",
    "def get_text(article_url):\n",
    "    name, site = article_url.split('/')[-1], article_url.split('/')[-2]\n",
    "    session = HTMLSession()\n",
    "    r = session.get(article_url)\n",
    "    content_el = r.html.xpath(\"//div[contains(@class, 'region-inner') and contains(@class, 'region-content-inner')]\")\n",
    "    if len(content_el) > 1:\n",
    "        print(\"there might be more to this site! please double-check:\")\n",
    "        print(article_url)\n",
    "    else:\n",
    "        with open(f'{site}/{name}.txt', 'w') as fout:\n",
    "            fout.write(content_el[0].text)"
   ]
  },
  {
   "cell_type": "code",
   "execution_count": 86,
   "metadata": {},
   "outputs": [
    {
     "name": "stdout",
     "output_type": "stream",
     "text": [
      "['https://president.yale.edu/speeches-writings/notes-woodbridge-hall/reunions-our-grand-finale', 'https://president.yale.edu/speeches-writings/notes-woodbridge-hall/yales-revolutionary-history', 'https://president.yale.edu/speeches-writings/notes-woodbridge-hall/great-ideas-making', 'https://president.yale.edu/speeches-writings/notes-woodbridge-hall/men-s-lacrosse-wins-national-championship', 'https://president.yale.edu/speeches-writings/notes-woodbridge-hall/building-powerful-partnerships']\n"
     ]
    }
   ],
   "source": [
    "link_list = []\n",
    "for page in pages:\n",
    "    link_list.extend(get_links(page))\n",
    "link_list[:5]  # look at a few"
   ]
  },
  {
   "cell_type": "code",
   "execution_count": null,
   "metadata": {},
   "outputs": [],
   "source": [
    "for link in link_list:\n",
    "    get_text(link)"
   ]
  },
  {
   "cell_type": "code",
   "execution_count": 84,
   "metadata": {},
   "outputs": [],
   "source": [
    "more = get_pagination('https://president.yale.edu/speeches-writings/notes-woodbridge-hall')"
   ]
  },
  {
   "cell_type": "code",
   "execution_count": 85,
   "metadata": {},
   "outputs": [
    {
     "data": {
      "text/plain": [
       "['https://president.yale.edu/speeches-writings/notes-woodbridge-hall?page=1',\n",
       " 'https://president.yale.edu/speeches-writings/notes-woodbridge-hall?page=2',\n",
       " 'https://president.yale.edu/speeches-writings/notes-woodbridge-hall?page=3',\n",
       " 'https://president.yale.edu/speeches-writings/notes-woodbridge-hall?page=4',\n",
       " 'https://president.yale.edu/speeches-writings/notes-woodbridge-hall?page=5',\n",
       " 'https://president.yale.edu/speeches-writings/notes-woodbridge-hall?page=6',\n",
       " 'https://president.yale.edu/speeches-writings/notes-woodbridge-hall?page=7',\n",
       " 'https://president.yale.edu/speeches-writings/notes-woodbridge-hall?page=8']"
      ]
     },
     "execution_count": 85,
     "metadata": {},
     "output_type": "execute_result"
    }
   ],
   "source": [
    "more"
   ]
  },
  {
   "cell_type": "code",
   "execution_count": 91,
   "metadata": {},
   "outputs": [
    {
     "data": {
      "text/plain": [
       "['https://president.yale.edu/speeches-writings/notes-woodbridge-hall/research-world',\n",
       " 'https://president.yale.edu/speeches-writings/notes-woodbridge-hall/science-our-planet-and-our-future',\n",
       " 'https://president.yale.edu/speeches-writings/notes-woodbridge-hall/legacy-public-service',\n",
       " 'https://president.yale.edu/speeches-writings/notes-woodbridge-hall/traditions-service',\n",
       " 'https://president.yale.edu/speeches-writings/notes-woodbridge-hall/big-dog-campus',\n",
       " 'https://president.yale.edu/speeches-writings/notes-woodbridge-hall/living-your-life-yale',\n",
       " 'https://president.yale.edu/speeches-writings/notes-woodbridge-hall/sharing-science-yale',\n",
       " 'https://president.yale.edu/speeches-writings/notes-woodbridge-hall/celebrating-lives-courage-love-and-service',\n",
       " 'https://president.yale.edu/speeches-writings/notes-woodbridge-hall/treasures-chapel-street',\n",
       " 'https://president.yale.edu/speeches-writings/notes-woodbridge-hall/reflections-after-charlottesville',\n",
       " 'https://president.yale.edu/speeches-writings/notes-woodbridge-hall/celebrating-future-yale-leaders',\n",
       " 'https://president.yale.edu/speeches-writings/notes-woodbridge-hall/power-name',\n",
       " 'https://president.yale.edu/speeches-writings/notes-woodbridge-hall/all-jazz',\n",
       " 'https://president.yale.edu/speeches-writings/notes-woodbridge-hall/listening-learning-leading',\n",
       " 'https://president.yale.edu/speeches-writings/notes-woodbridge-hall/celebrating-commencement',\n",
       " 'https://president.yale.edu/speeches-writings/notes-woodbridge-hall/sweet-home-new-haven',\n",
       " 'https://president.yale.edu/speeches-writings/notes-woodbridge-hall/music-my-ears',\n",
       " 'https://president.yale.edu/speeches-writings/notes-woodbridge-hall/women-medicine-100-years',\n",
       " 'https://president.yale.edu/speeches-writings/notes-woodbridge-hall/past-present-and-future-great-teaching-yale',\n",
       " 'https://president.yale.edu/speeches-writings/notes-woodbridge-hall/sustaining-yale',\n",
       " 'https://president.yale.edu/speeches-writings/notes-woodbridge-hall/exemplar-civic-engagement',\n",
       " 'https://president.yale.edu/speeches-writings/notes-woodbridge-hall/navigating-our-complex-history',\n",
       " 'https://president.yale.edu/speeches-writings/notes-woodbridge-hall/our-earth-day-responsibility',\n",
       " 'https://president.yale.edu/speeches-writings/notes-woodbridge-hall/bakers-makers',\n",
       " 'https://president.yale.edu/speeches-writings/notes-woodbridge-hall/when-global-becomes-local',\n",
       " 'https://president.yale.edu/speeches-writings/notes-woodbridge-hall/leap-day',\n",
       " 'https://president.yale.edu/speeches-writings/notes-woodbridge-hall/british-accent-new-haven',\n",
       " 'https://president.yale.edu/speeches-writings/notes-woodbridge-hall/welcome-back',\n",
       " 'https://president.yale.edu/speeches-writings/notes-woodbridge-hall/notes-road',\n",
       " 'https://president.yale.edu/speeches-writings/notes-woodbridge-hall/connecticut-open-tennis-anyone',\n",
       " 'https://president.yale.edu/speeches-writings/notes-woodbridge-hall/congratulations-class-2016',\n",
       " 'https://president.yale.edu/speeches-writings/notes-woodbridge-hall/red-white-and-bluegrass',\n",
       " 'https://president.yale.edu/speeches-writings/notes-woodbridge-hall/busy-week',\n",
       " 'https://president.yale.edu/speeches-writings/notes-woodbridge-hall/one-record-books',\n",
       " 'https://president.yale.edu/speeches-writings/notes-woodbridge-hall/saluting-champions-past-and-present',\n",
       " 'https://president.yale.edu/speeches-writings/notes-woodbridge-hall/nominations-and-congratulations',\n",
       " 'https://president.yale.edu/speeches-writings/notes-woodbridge-hall/campus-treasure-hunt',\n",
       " 'https://president.yale.edu/speeches-writings/notes-woodbridge-hall/summer-sojourns',\n",
       " 'https://president.yale.edu/speeches-writings/notes-woodbridge-hall/numbers',\n",
       " 'https://president.yale.edu/speeches-writings/notes-woodbridge-hall/congratulations-class-2015',\n",
       " 'https://president.yale.edu/speeches-writings/notes-woodbridge-hall/home-run-history',\n",
       " 'https://president.yale.edu/speeches-writings/notes-woodbridge-hall/hearing-and-heeding-call-martin-luther-king-jr',\n",
       " 'https://president.yale.edu/speeches-writings/notes-woodbridge-hall/visionary-ydea',\n",
       " 'https://president.yale.edu/speeches-writings/notes-woodbridge-hall/reunion-reverie',\n",
       " 'https://president.yale.edu/speeches-writings/notes-woodbridge-hall/one-yale-many-facets',\n",
       " 'https://president.yale.edu/speeches-writings/notes-woodbridge-hall/difficult-conversation',\n",
       " 'https://president.yale.edu/speeches-writings/notes-woodbridge-hall/role-reversal',\n",
       " 'https://president.yale.edu/speeches-writings/notes-woodbridge-hall/spring-has-sprung-sort',\n",
       " 'https://president.yale.edu/speeches-writings/notes-woodbridge-hall/day-tribute',\n",
       " 'https://president.yale.edu/speeches-writings/notes-woodbridge-hall/legacy-sixty-years-strong',\n",
       " 'https://president.yale.edu/speeches-writings/notes-woodbridge-hall/small-things-great-way',\n",
       " 'https://president.yale.edu/speeches-writings/notes-woodbridge-hall/milestone-moments',\n",
       " 'https://president.yale.edu/speeches-writings/notes-woodbridge-hall/looking-ahead-looking-back',\n",
       " 'https://president.yale.edu/speeches-writings/notes-woodbridge-hall/art-la-carte',\n",
       " 'https://president.yale.edu/speeches-writings/notes-woodbridge-hall/dispatch-china',\n",
       " 'https://president.yale.edu/speeches-writings/notes-woodbridge-hall/green-new-blue',\n",
       " 'https://president.yale.edu/speeches-writings/notes-woodbridge-hall/gratitude',\n",
       " 'https://president.yale.edu/speeches-writings/notes-woodbridge-hall/my-fun-valentine',\n",
       " 'https://president.yale.edu/speeches-writings/notes-woodbridge-hall/yale-world',\n",
       " 'https://president.yale.edu/speeches-writings/notes-woodbridge-hall/living-above-store',\n",
       " 'https://president.yale.edu/speeches-writings/notes-woodbridge-hall/oh-why-doth-time-so-quickly-fly',\n",
       " 'https://president.yale.edu/speeches-writings/notes-woodbridge-hall/creative-construction',\n",
       " 'https://president.yale.edu/speeches-writings/notes-woodbridge-hall/trip-berkeley-and-tanner-lectures',\n",
       " 'https://president.yale.edu/speeches-writings/notes-woodbridge-hall/art-and-science-partnership-education-virgin',\n",
       " 'https://president.yale.edu/speeches-writings/notes-woodbridge-hall/thoughts-end-year',\n",
       " 'https://president.yale.edu/speeches-writings/notes-woodbridge-hall/commencement-2014',\n",
       " 'https://president.yale.edu/speeches-writings/notes-woodbridge-hall/bulldog-bulldog-bow-wow-wow',\n",
       " 'https://president.yale.edu/speeches-writings/notes-woodbridge-hall/one-my-favorite-weeks-year',\n",
       " 'https://president.yale.edu/speeches-writings/notes-woodbridge-hall/reflect-and-rest',\n",
       " 'https://president.yale.edu/speeches-writings/notes-woodbridge-hall/sterling-memorial-library',\n",
       " 'https://president.yale.edu/speeches-writings/notes-woodbridge-hall/going-home-american-dream',\n",
       " 'https://president.yale.edu/speeches-writings/notes-woodbridge-hall/new-haven-mayor-elect',\n",
       " 'https://president.yale.edu/speeches-writings/notes-woodbridge-hall/creativity-transfer',\n",
       " 'https://president.yale.edu/speeches-writings/notes-woodbridge-hall/thanksgiving',\n",
       " 'https://president.yale.edu/speeches-writings/notes-woodbridge-hall/bulldog-days',\n",
       " 'https://president.yale.edu/speeches-writings/notes-woodbridge-hall/new-year-s-day-inauguration',\n",
       " 'https://president.yale.edu/speeches-writings/notes-woodbridge-hall/honor-martin-luther-king-jr',\n",
       " 'https://president.yale.edu/speeches-writings/notes-woodbridge-hall/diverse-faculty-excellent-faculty',\n",
       " 'https://president.yale.edu/speeches-writings/notes-woodbridge-hall/celebrating-women-yale',\n",
       " 'https://president.yale.edu/speeches-writings/notes-woodbridge-hall/spring-break-2014',\n",
       " 'https://president.yale.edu/speeches-writings/notes-woodbridge-hall/visit-white-house',\n",
       " 'https://president.yale.edu/speeches-writings/notes-woodbridge-hall/amplifying-words-yale-s-great-teachers',\n",
       " 'https://president.yale.edu/speeches-writings/notes-woodbridge-hall/disaster-philippines',\n",
       " 'https://president.yale.edu/speeches-writings/notes-woodbridge-hall/arts-and-culture-yale-university',\n",
       " 'https://president.yale.edu/speeches-writings/notes-woodbridge-hall/inauguration-week-begins-nobel-prize',\n",
       " 'https://president.yale.edu/speeches-writings/notes-woodbridge-hall/first-note-woodbridge-hall',\n",
       " 'https://president.yale.edu/speeches-writings/notes-woodbridge-hall/new-havens-entrepreneurial-climate',\n",
       " 'https://president.yale.edu/speeches-writings/notes-woodbridge-hall/yale-and-washington-dc',\n",
       " 'https://president.yale.edu/speeches-writings/notes-woodbridge-hall/line-education-yale',\n",
       " 'https://president.yale.edu/speeches-writings/notes-woodbridge-hall/yale-goes-west',\n",
       " 'https://president.yale.edu/speeches-writings/notes-woodbridge-hall/appreciation-yale-review',\n",
       " 'https://president.yale.edu/speeches-writings/notes-woodbridge-hall/basking-reflected-glory']"
      ]
     },
     "execution_count": 91,
     "metadata": {},
     "output_type": "execute_result"
    }
   ],
   "source": [
    "wood_pages = []\n",
    "for link in more:\n",
    "    wood_pages.extend(get_links(link, paginate=True))\n",
    "wood_pages[:5]"
   ]
  },
  {
   "cell_type": "code",
   "execution_count": 92,
   "metadata": {},
   "outputs": [],
   "source": [
    "for link in wood_pages:\n",
    "    get_text(link)"
   ]
  },
  {
   "cell_type": "code",
   "execution_count": null,
   "metadata": {},
   "outputs": [],
   "source": []
  }
 ],
 "metadata": {
  "kernelspec": {
   "display_name": "Python 3",
   "language": "python",
   "name": "python3"
  },
  "language_info": {
   "codemirror_mode": {
    "name": "ipython",
    "version": 3
   },
   "file_extension": ".py",
   "mimetype": "text/x-python",
   "name": "python",
   "nbconvert_exporter": "python",
   "pygments_lexer": "ipython3",
   "version": "3.6.5"
  }
 },
 "nbformat": 4,
 "nbformat_minor": 2
}
