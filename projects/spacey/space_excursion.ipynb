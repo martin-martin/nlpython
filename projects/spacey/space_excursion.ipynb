{
 "cells": [
  {
   "cell_type": "code",
   "execution_count": 1,
   "metadata": {
    "scrolled": true
   },
   "outputs": [
    {
     "name": "stdout",
     "output_type": "stream",
     "text": [
      "/Users/martin/Documents/codingnomads/nlpython/nlpython_github/projects/spacey/env/bin/python\r\n"
     ]
    }
   ],
   "source": [
    "!which python"
   ]
  },
  {
   "cell_type": "code",
   "execution_count": 2,
   "metadata": {},
   "outputs": [],
   "source": [
    "import spacy"
   ]
  },
  {
   "cell_type": "markdown",
   "metadata": {},
   "source": [
    "## NOTES\n",
    "\n",
    "In order to get the model to run inside of the virtual environment,\n",
    "I had to use pip install: https://spacy.io/usage/models#download-pip\n",
    "after getting the model from: https://github.com/explosion/spacy-models\n",
    "\n",
    "A bit of a detour, but the only way it ended up working for me.\n",
    "Check also here: https://spacy.io/usage/models#download-manual"
   ]
  },
  {
   "cell_type": "code",
   "execution_count": 3,
   "metadata": {},
   "outputs": [],
   "source": [
    "nlp = spacy.load('en_core_web_lg')"
   ]
  },
  {
   "cell_type": "code",
   "execution_count": 4,
   "metadata": {},
   "outputs": [],
   "source": [
    "with open('chaos.txt', 'r') as f:\n",
    "    source_text = f.read()\n",
    "\n",
    "doc = nlp(source_text)"
   ]
  },
  {
   "cell_type": "code",
   "execution_count": 6,
   "metadata": {},
   "outputs": [
    {
     "name": "stdout",
     "output_type": "stream",
     "text": [
      "Dearest dearest ADJ JJ amod Xxxxx True False\n",
      "creature creature NOUN NN ROOT xxxx True False\n",
      "in in ADP IN prep xx True False\n",
      "Creation creation PROPN NNP pobj Xxxxx True False\n",
      ", , PUNCT , punct , False False\n",
      "\n",
      " \n",
      " SPACE   \n",
      " False False\n",
      "Studying study VERB VBG acl Xxxxx True False\n",
      "English english ADJ JJ amod Xxxxx True False\n",
      "pronunciation pronunciation NOUN NN dobj xxxx True False\n",
      ", , PUNCT , punct , False False\n"
     ]
    }
   ],
   "source": [
    "# checking out what a spaCy token has to offer\n",
    "count = 0\n",
    "for token in doc:\n",
    "    if count >= 10:\n",
    "        break\n",
    "    print(token.text, token.lemma_, token.pos_, token.tag_, token.dep_, token.shape_, token.is_alpha, token.is_stop)\n",
    "    count += 1"
   ]
  },
  {
   "cell_type": "code",
   "execution_count": 7,
   "metadata": {},
   "outputs": [],
   "source": [
    "with open('chaos.csv', 'w') as f:\n",
    "    sheet_data = \"TEXT,LEMMA,POS,TAG,DEP,SHAPE,ALPHA,STOP\\n\"  # title row\n",
    "    for token in doc:\n",
    "        line = f\"{token.text},{token.lemma_},{token.pos_},{token.tag_},{token.dep_},{token.shape_},{token.is_alpha},{token.is_stop}\\n\"\n",
    "        sheet_data += line\n",
    "    f.write(sheet_data)"
   ]
  },
  {
   "cell_type": "code",
   "execution_count": null,
   "metadata": {},
   "outputs": [],
   "source": [
    "# the dependency visualizer, running from a notebook\n",
    "spacy.displacy.serve(doc, style='dep')"
   ]
  }
 ],
 "metadata": {
  "kernelspec": {
   "display_name": "Python 3",
   "language": "python",
   "name": "python3"
  },
  "language_info": {
   "codemirror_mode": {
    "name": "ipython",
    "version": 3
   },
   "file_extension": ".py",
   "mimetype": "text/x-python",
   "name": "python",
   "nbconvert_exporter": "python",
   "pygments_lexer": "ipython3",
   "version": "3.6.5"
  }
 },
 "nbformat": 4,
 "nbformat_minor": 2
}
